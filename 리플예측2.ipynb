{
 "cells": [
  {
   "cell_type": "code",
   "execution_count": 1,
   "metadata": {
    "collapsed": true,
    "jupyter": {
     "outputs_hidden": true
    }
   },
   "outputs": [
    {
     "name": "stderr",
     "output_type": "stream",
     "text": [
      "Using TensorFlow backend.\n",
      "c:\\programdata\\anaconda3\\envs\\upbit\\lib\\site-packages\\tensorflow\\python\\framework\\dtypes.py:516: FutureWarning: Passing (type, 1) or '1type' as a synonym of type is deprecated; in a future version of numpy, it will be understood as (type, (1,)) / '(1,)type'.\n",
      "  _np_qint8 = np.dtype([(\"qint8\", np.int8, 1)])\n",
      "c:\\programdata\\anaconda3\\envs\\upbit\\lib\\site-packages\\tensorflow\\python\\framework\\dtypes.py:517: FutureWarning: Passing (type, 1) or '1type' as a synonym of type is deprecated; in a future version of numpy, it will be understood as (type, (1,)) / '(1,)type'.\n",
      "  _np_quint8 = np.dtype([(\"quint8\", np.uint8, 1)])\n",
      "c:\\programdata\\anaconda3\\envs\\upbit\\lib\\site-packages\\tensorflow\\python\\framework\\dtypes.py:518: FutureWarning: Passing (type, 1) or '1type' as a synonym of type is deprecated; in a future version of numpy, it will be understood as (type, (1,)) / '(1,)type'.\n",
      "  _np_qint16 = np.dtype([(\"qint16\", np.int16, 1)])\n",
      "c:\\programdata\\anaconda3\\envs\\upbit\\lib\\site-packages\\tensorflow\\python\\framework\\dtypes.py:519: FutureWarning: Passing (type, 1) or '1type' as a synonym of type is deprecated; in a future version of numpy, it will be understood as (type, (1,)) / '(1,)type'.\n",
      "  _np_quint16 = np.dtype([(\"quint16\", np.uint16, 1)])\n",
      "c:\\programdata\\anaconda3\\envs\\upbit\\lib\\site-packages\\tensorflow\\python\\framework\\dtypes.py:520: FutureWarning: Passing (type, 1) or '1type' as a synonym of type is deprecated; in a future version of numpy, it will be understood as (type, (1,)) / '(1,)type'.\n",
      "  _np_qint32 = np.dtype([(\"qint32\", np.int32, 1)])\n",
      "c:\\programdata\\anaconda3\\envs\\upbit\\lib\\site-packages\\tensorflow\\python\\framework\\dtypes.py:525: FutureWarning: Passing (type, 1) or '1type' as a synonym of type is deprecated; in a future version of numpy, it will be understood as (type, (1,)) / '(1,)type'.\n",
      "  np_resource = np.dtype([(\"resource\", np.ubyte, 1)])\n",
      "c:\\programdata\\anaconda3\\envs\\upbit\\lib\\site-packages\\tensorboard\\compat\\tensorflow_stub\\dtypes.py:541: FutureWarning: Passing (type, 1) or '1type' as a synonym of type is deprecated; in a future version of numpy, it will be understood as (type, (1,)) / '(1,)type'.\n",
      "  _np_qint8 = np.dtype([(\"qint8\", np.int8, 1)])\n",
      "c:\\programdata\\anaconda3\\envs\\upbit\\lib\\site-packages\\tensorboard\\compat\\tensorflow_stub\\dtypes.py:542: FutureWarning: Passing (type, 1) or '1type' as a synonym of type is deprecated; in a future version of numpy, it will be understood as (type, (1,)) / '(1,)type'.\n",
      "  _np_quint8 = np.dtype([(\"quint8\", np.uint8, 1)])\n",
      "c:\\programdata\\anaconda3\\envs\\upbit\\lib\\site-packages\\tensorboard\\compat\\tensorflow_stub\\dtypes.py:543: FutureWarning: Passing (type, 1) or '1type' as a synonym of type is deprecated; in a future version of numpy, it will be understood as (type, (1,)) / '(1,)type'.\n",
      "  _np_qint16 = np.dtype([(\"qint16\", np.int16, 1)])\n",
      "c:\\programdata\\anaconda3\\envs\\upbit\\lib\\site-packages\\tensorboard\\compat\\tensorflow_stub\\dtypes.py:544: FutureWarning: Passing (type, 1) or '1type' as a synonym of type is deprecated; in a future version of numpy, it will be understood as (type, (1,)) / '(1,)type'.\n",
      "  _np_quint16 = np.dtype([(\"quint16\", np.uint16, 1)])\n",
      "c:\\programdata\\anaconda3\\envs\\upbit\\lib\\site-packages\\tensorboard\\compat\\tensorflow_stub\\dtypes.py:545: FutureWarning: Passing (type, 1) or '1type' as a synonym of type is deprecated; in a future version of numpy, it will be understood as (type, (1,)) / '(1,)type'.\n",
      "  _np_qint32 = np.dtype([(\"qint32\", np.int32, 1)])\n",
      "c:\\programdata\\anaconda3\\envs\\upbit\\lib\\site-packages\\tensorboard\\compat\\tensorflow_stub\\dtypes.py:550: FutureWarning: Passing (type, 1) or '1type' as a synonym of type is deprecated; in a future version of numpy, it will be understood as (type, (1,)) / '(1,)type'.\n",
      "  np_resource = np.dtype([(\"resource\", np.ubyte, 1)])\n"
     ]
    }
   ],
   "source": [
    "import os\n",
    "import pandas as pd\n",
    "import numpy as np\n",
    "\n",
    "from sklearn.preprocessing import MinMaxScaler\n",
    "from sklearn.metrics import mean_squared_error, accuracy_score\n",
    "\n",
    "from keras.models import Sequential\n",
    "from keras.layers import LSTM, Dense, Activation, Dropout, BatchNormalization, LeakyReLU\n",
    "from keras.optimizers import SGD, Adagrad, RMSprop, Adam, Adadelta, Nadam\n",
    "\n",
    "import matplotlib.pyplot as plt\n",
    "import math\n",
    "\n",
    "import talib"
   ]
  },
  {
   "cell_type": "code",
   "execution_count": 2,
   "metadata": {},
   "outputs": [
    {
     "data": {
      "text/plain": [
       "date\n",
       "2020-03-14T10:00:00+00:00    191.0\n",
       "2020-03-14T09:45:00+00:00    191.0\n",
       "2020-03-14T09:30:00+00:00    193.0\n",
       "2020-03-14T09:15:00+00:00    193.0\n",
       "2020-03-14T09:00:00+00:00    195.0\n",
       "                             ...  \n",
       "2018-03-14T01:00:00+00:00    869.0\n",
       "2018-03-14T00:45:00+00:00    869.0\n",
       "2018-03-14T00:30:00+00:00    860.0\n",
       "2018-03-14T00:15:00+00:00    862.0\n",
       "2018-03-14T00:00:00+00:00    864.0\n",
       "Name: close, Length: 70015, dtype: float64"
      ]
     },
     "execution_count": 2,
     "metadata": {},
     "output_type": "execute_result"
    }
   ],
   "source": [
    "look_back = 1\n",
    "def create_dataset(dataset, look_back=1):\n",
    "    dataX, dataY = [], []\n",
    "    for i in range(len(dataset)-look_back-1):\n",
    "        a = dataset[i:(i + look_back)]\n",
    "        dataX.append(a)\n",
    "        dataY.append(dataset[i + look_back])\n",
    "    return np.array(dataX), np.array(dataY)\n",
    " \n",
    "# file loader\n",
    "df = pd.read_csv(\"C:\\\\Users\\\\ojkk3\\\\PycharmProjects\\\\coin_crawler\\\\data\\\\upbit_KRW_XRP_minutes_15.csv\", index_col=\"date\")\n",
    "df['close']"
   ]
  },
  {
   "cell_type": "code",
   "execution_count": 3,
   "metadata": {},
   "outputs": [
    {
     "data": {
      "text/html": [
       "<div>\n",
       "<style scoped>\n",
       "    .dataframe tbody tr th:only-of-type {\n",
       "        vertical-align: middle;\n",
       "    }\n",
       "\n",
       "    .dataframe tbody tr th {\n",
       "        vertical-align: top;\n",
       "    }\n",
       "\n",
       "    .dataframe thead th {\n",
       "        text-align: right;\n",
       "    }\n",
       "</style>\n",
       "<table border=\"1\" class=\"dataframe\">\n",
       "  <thead>\n",
       "    <tr style=\"text-align: right;\">\n",
       "      <th></th>\n",
       "      <th>open</th>\n",
       "      <th>high</th>\n",
       "      <th>low</th>\n",
       "      <th>close</th>\n",
       "      <th>volume</th>\n",
       "    </tr>\n",
       "    <tr>\n",
       "      <th>date</th>\n",
       "      <th></th>\n",
       "      <th></th>\n",
       "      <th></th>\n",
       "      <th></th>\n",
       "      <th></th>\n",
       "    </tr>\n",
       "  </thead>\n",
       "  <tbody>\n",
       "    <tr>\n",
       "      <th>2020-03-14T10:00:00+00:00</th>\n",
       "      <td>192.0</td>\n",
       "      <td>193.0</td>\n",
       "      <td>191.0</td>\n",
       "      <td>191.0</td>\n",
       "      <td>6.302633e+05</td>\n",
       "    </tr>\n",
       "    <tr>\n",
       "      <th>2020-03-14T09:45:00+00:00</th>\n",
       "      <td>192.0</td>\n",
       "      <td>193.0</td>\n",
       "      <td>190.0</td>\n",
       "      <td>191.0</td>\n",
       "      <td>3.147385e+06</td>\n",
       "    </tr>\n",
       "    <tr>\n",
       "      <th>2020-03-14T09:30:00+00:00</th>\n",
       "      <td>194.0</td>\n",
       "      <td>195.0</td>\n",
       "      <td>193.0</td>\n",
       "      <td>193.0</td>\n",
       "      <td>1.293161e+06</td>\n",
       "    </tr>\n",
       "    <tr>\n",
       "      <th>2020-03-14T09:15:00+00:00</th>\n",
       "      <td>195.0</td>\n",
       "      <td>195.0</td>\n",
       "      <td>193.0</td>\n",
       "      <td>193.0</td>\n",
       "      <td>1.196142e+06</td>\n",
       "    </tr>\n",
       "    <tr>\n",
       "      <th>2020-03-14T09:00:00+00:00</th>\n",
       "      <td>195.0</td>\n",
       "      <td>195.0</td>\n",
       "      <td>193.0</td>\n",
       "      <td>195.0</td>\n",
       "      <td>1.788169e+06</td>\n",
       "    </tr>\n",
       "    <tr>\n",
       "      <th>...</th>\n",
       "      <td>...</td>\n",
       "      <td>...</td>\n",
       "      <td>...</td>\n",
       "      <td>...</td>\n",
       "      <td>...</td>\n",
       "    </tr>\n",
       "    <tr>\n",
       "      <th>2018-03-14T01:00:00+00:00</th>\n",
       "      <td>869.0</td>\n",
       "      <td>870.0</td>\n",
       "      <td>866.0</td>\n",
       "      <td>869.0</td>\n",
       "      <td>5.122584e+05</td>\n",
       "    </tr>\n",
       "    <tr>\n",
       "      <th>2018-03-14T00:45:00+00:00</th>\n",
       "      <td>860.0</td>\n",
       "      <td>872.0</td>\n",
       "      <td>859.0</td>\n",
       "      <td>869.0</td>\n",
       "      <td>1.058177e+06</td>\n",
       "    </tr>\n",
       "    <tr>\n",
       "      <th>2018-03-14T00:30:00+00:00</th>\n",
       "      <td>862.0</td>\n",
       "      <td>863.0</td>\n",
       "      <td>858.0</td>\n",
       "      <td>860.0</td>\n",
       "      <td>4.926290e+05</td>\n",
       "    </tr>\n",
       "    <tr>\n",
       "      <th>2018-03-14T00:15:00+00:00</th>\n",
       "      <td>865.0</td>\n",
       "      <td>866.0</td>\n",
       "      <td>862.0</td>\n",
       "      <td>862.0</td>\n",
       "      <td>4.637044e+05</td>\n",
       "    </tr>\n",
       "    <tr>\n",
       "      <th>2018-03-14T00:00:00+00:00</th>\n",
       "      <td>863.0</td>\n",
       "      <td>864.0</td>\n",
       "      <td>858.0</td>\n",
       "      <td>864.0</td>\n",
       "      <td>5.061501e+05</td>\n",
       "    </tr>\n",
       "  </tbody>\n",
       "</table>\n",
       "<p>70015 rows × 5 columns</p>\n",
       "</div>"
      ],
      "text/plain": [
       "                            open   high    low  close        volume\n",
       "date                                                               \n",
       "2020-03-14T10:00:00+00:00  192.0  193.0  191.0  191.0  6.302633e+05\n",
       "2020-03-14T09:45:00+00:00  192.0  193.0  190.0  191.0  3.147385e+06\n",
       "2020-03-14T09:30:00+00:00  194.0  195.0  193.0  193.0  1.293161e+06\n",
       "2020-03-14T09:15:00+00:00  195.0  195.0  193.0  193.0  1.196142e+06\n",
       "2020-03-14T09:00:00+00:00  195.0  195.0  193.0  195.0  1.788169e+06\n",
       "...                          ...    ...    ...    ...           ...\n",
       "2018-03-14T01:00:00+00:00  869.0  870.0  866.0  869.0  5.122584e+05\n",
       "2018-03-14T00:45:00+00:00  860.0  872.0  859.0  869.0  1.058177e+06\n",
       "2018-03-14T00:30:00+00:00  862.0  863.0  858.0  860.0  4.926290e+05\n",
       "2018-03-14T00:15:00+00:00  865.0  866.0  862.0  862.0  4.637044e+05\n",
       "2018-03-14T00:00:00+00:00  863.0  864.0  858.0  864.0  5.061501e+05\n",
       "\n",
       "[70015 rows x 5 columns]"
      ]
     },
     "execution_count": 3,
     "metadata": {},
     "output_type": "execute_result"
    }
   ],
   "source": [
    "df"
   ]
  },
  {
   "cell_type": "code",
   "execution_count": 4,
   "metadata": {},
   "outputs": [
    {
     "data": {
      "text/plain": [
       "array([[864.],\n",
       "       [862.],\n",
       "       [860.],\n",
       "       ...,\n",
       "       [193.],\n",
       "       [191.],\n",
       "       [191.]])"
      ]
     },
     "execution_count": 4,
     "metadata": {},
     "output_type": "execute_result"
    }
   ],
   "source": [
    " # convert nparray\n",
    "nparr = df[['close']].values[::-1]\n",
    "nparr"
   ]
  },
  {
   "cell_type": "code",
   "execution_count": 11,
   "metadata": {},
   "outputs": [
    {
     "data": {
      "text/plain": [
       "array([[864.],\n",
       "       [862.],\n",
       "       [860.],\n",
       "       ...,\n",
       "       [193.],\n",
       "       [191.],\n",
       "       [191.]], dtype=float32)"
      ]
     },
     "execution_count": 11,
     "metadata": {},
     "output_type": "execute_result"
    }
   ],
   "source": [
    "nparr = nparr.astype('float32')\n",
    "nparr"
   ]
  },
  {
   "cell_type": "code",
   "execution_count": 12,
   "metadata": {},
   "outputs": [],
   "source": [
    "# normalization\n",
    "scaler = MinMaxScaler(feature_range=(0, 1))\n",
    "ndf = scaler.fit_transform(nparr)"
   ]
  },
  {
   "cell_type": "code",
   "execution_count": 14,
   "metadata": {},
   "outputs": [
    {
     "name": "stdout",
     "output_type": "stream",
     "text": [
      "66514 3501\n"
     ]
    }
   ],
   "source": [
    "# split train, test\n",
    "train_size = int(len(ndf) * 0.95)\n",
    "test_size = len(ndf) - train_size\n",
    "train, test = ndf[0:train_size], ndf[train_size:len(ndf)]\n",
    "print(len(train), len(test))"
   ]
  },
  {
   "cell_type": "code",
   "execution_count": 15,
   "metadata": {},
   "outputs": [],
   "source": [
    "# create dataset for learning\n",
    "trainX, trainY = create_dataset(train, look_back)\n",
    "testX, testY = create_dataset(test, look_back)"
   ]
  },
  {
   "cell_type": "code",
   "execution_count": 16,
   "metadata": {},
   "outputs": [],
   "source": [
    "# reshape input to be [samples, time steps, features]\n",
    "trainX = np.reshape(trainX, (trainX.shape[0], 1, trainX.shape[1]))\n",
    "testX = np.reshape(testX, (testX.shape[0], 1, testX.shape[1]))"
   ]
  },
  {
   "cell_type": "code",
   "execution_count": null,
   "metadata": {},
   "outputs": [],
   "source": [
    "\"\"\"\n",
    "model = Sequential()\n",
    "\n",
    "model.add(LSTM(128, input_shape=(1, look_back), return_sequences=True))\n",
    "model.add(Dropout(0.2)) #오버피팅을 막고자 일부를 버림\n",
    "model.add(BatchNormalization())\n",
    "\n",
    "model.add(LSTM(128, return_sequences=True))\n",
    "model.add(Dropout(0.1))\n",
    "model.add(BatchNormalization())\n",
    "\n",
    "model.add(LSTM(128))\n",
    "model.add(Dropout(0.2))\n",
    "model.add(BatchNormalization())\n",
    "\n",
    "model.add(Dense(32, activation = 'relu'))\n",
    "model.add(Dropout(0.2))\n",
    "\n",
    "model.add(LeakyReLU(alpha=0.1))\n",
    "\n",
    "model.add(Dense(1, activation='relu'))\n",
    "\n",
    "opt = Adam(lr=0.001, decay=1e-6)\n",
    "#opt = Nadam(lr=0.001, decay=1e-6)\n",
    "\n",
    "# Compile model\n",
    "model.compile(\n",
    "    loss='sparse_categorical_crossentropy',\n",
    "    optimizer=opt,\n",
    "    metrics=['accuracy']\n",
    ")\n",
    "\n",
    "model.compile(loss='mean_squared_error', optimizer=opt)\n",
    "model.fit(trainX, trainY, epochs=5, batch_size=128, verbose=1)\n",
    "\"\"\""
   ]
  },
  {
   "cell_type": "code",
   "execution_count": 17,
   "metadata": {},
   "outputs": [
    {
     "name": "stdout",
     "output_type": "stream",
     "text": [
      "WARNING:tensorflow:From c:\\programdata\\anaconda3\\envs\\upbit\\lib\\site-packages\\keras\\backend\\tensorflow_backend.py:74: The name tf.get_default_graph is deprecated. Please use tf.compat.v1.get_default_graph instead.\n",
      "\n",
      "WARNING:tensorflow:From c:\\programdata\\anaconda3\\envs\\upbit\\lib\\site-packages\\keras\\backend\\tensorflow_backend.py:517: The name tf.placeholder is deprecated. Please use tf.compat.v1.placeholder instead.\n",
      "\n",
      "WARNING:tensorflow:From c:\\programdata\\anaconda3\\envs\\upbit\\lib\\site-packages\\keras\\backend\\tensorflow_backend.py:4138: The name tf.random_uniform is deprecated. Please use tf.random.uniform instead.\n",
      "\n",
      "WARNING:tensorflow:From c:\\programdata\\anaconda3\\envs\\upbit\\lib\\site-packages\\keras\\optimizers.py:790: The name tf.train.Optimizer is deprecated. Please use tf.compat.v1.train.Optimizer instead.\n",
      "\n",
      "WARNING:tensorflow:From c:\\programdata\\anaconda3\\envs\\upbit\\lib\\site-packages\\tensorflow\\python\\ops\\math_grad.py:1250: add_dispatch_support.<locals>.wrapper (from tensorflow.python.ops.array_ops) is deprecated and will be removed in a future version.\n",
      "Instructions for updating:\n",
      "Use tf.where in 2.0, which has the same broadcast rule as np.where\n",
      "WARNING:tensorflow:From c:\\programdata\\anaconda3\\envs\\upbit\\lib\\site-packages\\keras\\backend\\tensorflow_backend.py:986: The name tf.assign_add is deprecated. Please use tf.compat.v1.assign_add instead.\n",
      "\n",
      "WARNING:tensorflow:From c:\\programdata\\anaconda3\\envs\\upbit\\lib\\site-packages\\keras\\backend\\tensorflow_backend.py:973: The name tf.assign is deprecated. Please use tf.compat.v1.assign instead.\n",
      "\n",
      "Train on 66512 samples, validate on 3499 samples\n",
      "Epoch 1/20\n",
      "66512/66512 [==============================] - 1s 11us/step - loss: 0.0326 - acc: 0.0000e+00 - val_loss: 0.0100 - val_acc: 2.8580e-04\n",
      "Epoch 2/20\n",
      "66512/66512 [==============================] - 0s 4us/step - loss: 0.0048 - acc: 1.5035e-05 - val_loss: 0.0013 - val_acc: 2.8580e-04\n",
      "Epoch 3/20\n",
      "66512/66512 [==============================] - 0s 4us/step - loss: 2.1928e-04 - acc: 1.5035e-05 - val_loss: 4.8525e-05 - val_acc: 2.8580e-04\n",
      "Epoch 4/20\n",
      "66512/66512 [==============================] - 0s 4us/step - loss: 4.5090e-05 - acc: 1.5035e-05 - val_loss: 3.6324e-05 - val_acc: 2.8580e-04\n",
      "Epoch 5/20\n",
      "66512/66512 [==============================] - 0s 4us/step - loss: 4.2057e-05 - acc: 1.5035e-05 - val_loss: 3.3147e-05 - val_acc: 2.8580e-04\n",
      "Epoch 6/20\n",
      "66512/66512 [==============================] - 0s 4us/step - loss: 3.8914e-05 - acc: 1.5035e-05 - val_loss: 3.1830e-05 - val_acc: 2.8580e-04\n",
      "Epoch 7/20\n",
      "66512/66512 [==============================] - 0s 4us/step - loss: 3.5713e-05 - acc: 1.5035e-05 - val_loss: 2.8751e-05 - val_acc: 2.8580e-04\n",
      "Epoch 8/20\n",
      "66512/66512 [==============================] - 0s 4us/step - loss: 3.2515e-05 - acc: 1.5035e-05 - val_loss: 2.4646e-05 - val_acc: 2.8580e-04\n",
      "Epoch 9/20\n",
      "66512/66512 [==============================] - 0s 4us/step - loss: 2.9388e-05 - acc: 1.5035e-05 - val_loss: 2.0557e-05 - val_acc: 2.8580e-04\n",
      "Epoch 10/20\n",
      "66512/66512 [==============================] - 0s 4us/step - loss: 2.6364e-05 - acc: 1.5035e-05 - val_loss: 2.0539e-05 - val_acc: 2.8580e-04\n",
      "Epoch 11/20\n",
      "66512/66512 [==============================] - 0s 4us/step - loss: 2.3512e-05 - acc: 1.5035e-05 - val_loss: 1.6841e-05 - val_acc: 2.8580e-04\n",
      "Epoch 12/20\n",
      "66512/66512 [==============================] - 0s 4us/step - loss: 2.0868e-05 - acc: 1.5035e-05 - val_loss: 1.3662e-05 - val_acc: 2.8580e-04\n",
      "Epoch 13/20\n",
      "66512/66512 [==============================] - 0s 4us/step - loss: 1.8495e-05 - acc: 1.5035e-05 - val_loss: 1.2523e-05 - val_acc: 2.8580e-04\n",
      "Epoch 14/20\n",
      "66512/66512 [==============================] - 0s 4us/step - loss: 1.6370e-05 - acc: 1.5035e-05 - val_loss: 1.0401e-05 - val_acc: 2.8580e-04\n",
      "Epoch 15/20\n",
      "66512/66512 [==============================] - 0s 5us/step - loss: 1.4526e-05 - acc: 1.5035e-05 - val_loss: 9.9872e-06 - val_acc: 2.8580e-04\n",
      "Epoch 16/20\n",
      "66512/66512 [==============================] - 0s 4us/step - loss: 1.3022e-05 - acc: 1.5035e-05 - val_loss: 8.0547e-06 - val_acc: 2.8580e-04\n",
      "Epoch 17/20\n",
      "66512/66512 [==============================] - 0s 4us/step - loss: 1.1763e-05 - acc: 1.5035e-05 - val_loss: 6.8257e-06 - val_acc: 2.8580e-04\n",
      "Epoch 18/20\n",
      "66512/66512 [==============================] - 0s 4us/step - loss: 1.0792e-05 - acc: 1.5035e-05 - val_loss: 5.2297e-06 - val_acc: 2.8580e-04\n",
      "Epoch 19/20\n",
      "66512/66512 [==============================] - 0s 4us/step - loss: 1.0075e-05 - acc: 1.5035e-05 - val_loss: 5.4776e-06 - val_acc: 2.8580e-04\n",
      "Epoch 20/20\n",
      "66512/66512 [==============================] - 0s 4us/step - loss: 9.5668e-06 - acc: 1.5035e-05 - val_loss: 4.6705e-06 - val_acc: 2.8580e-04\n"
     ]
    }
   ],
   "source": [
    "opt = Adam(lr=0.001)\n",
    "\n",
    "# simple lstm network learning\n",
    "model = Sequential()\n",
    "model.add(LSTM(100, input_shape=(1, look_back)))\n",
    "model.add(Dense(1))\n",
    "#model.compile(loss='mean_squared_error', optimizer='nadam', metrics=['accuracy'])\n",
    "model.compile(loss='mean_squared_error', optimizer=opt, metrics=['accuracy'])\n",
    "\n",
    "history = model.fit(\n",
    "    trainX, trainY, \n",
    "    epochs=20, \n",
    "    batch_size=512, \n",
    "    validation_data = (testX, testY),\n",
    "    verbose=1)"
   ]
  },
  {
   "cell_type": "code",
   "execution_count": 18,
   "metadata": {},
   "outputs": [
    {
     "name": "stdout",
     "output_type": "stream",
     "text": [
      "Train Score: 1.92 RMSE\n"
     ]
    }
   ],
   "source": [
    "# make prediction\n",
    "testPredict = model.predict(testX)\n",
    "testPredict = scaler.inverse_transform(testPredict)\n",
    "testY = scaler.inverse_transform(testY)\n",
    "testScore = math.sqrt(mean_squared_error(testY, testPredict))\n",
    "print('Train Score: %.2f RMSE' % testScore)"
   ]
  },
  {
   "cell_type": "code",
   "execution_count": 20,
   "metadata": {},
   "outputs": [
    {
     "name": "stdout",
     "output_type": "stream",
     "text": [
      "Predict the Close value of final day: 193\n"
     ]
    }
   ],
   "source": [
    "# predict last value (or tomorrow?)\n",
    "lastX = ndf[-1]\n",
    "lastX = np.reshape(lastX, (1, 1, 1))\n",
    "lastY = model.predict(lastX)\n",
    "lastY = scaler.inverse_transform(lastY)\n",
    "print('Predict the Close value of final day: %d' % lastY)  # 데이터 입력 마지막 다음날 종가 예측"
   ]
  },
  {
   "cell_type": "code",
   "execution_count": 21,
   "metadata": {},
   "outputs": [
    {
     "data": {
      "image/png": "[encoded data removed]",
      "text/plain": [
       "<Figure size 1440x720 with 1 Axes>"
      ]
     },
     "metadata": {},
     "output_type": "display_data"
    }
   ],
   "source": [
    "# 시각화\n",
    "fig = plt.figure(facecolor='white', figsize=(20, 10))\n",
    "ax = fig.add_subplot(111)\n",
    "plt.plot(testPredict,label='Pred')\n",
    "plt.plot(testY,label='True')\n",
    "ax.legend()\n",
    "plt.xlabel('Data', fontsize=12)\n",
    "plt.ylabel('Price', fontsize=12)\n",
    "plt.show()"
   ]
  }
 ],
 "metadata": {
  "kernelspec": {
   "display_name": "Python 3",
   "language": "python",
   "name": "python3"
  },
  "language_info": {
   "codemirror_mode": {
    "name": "ipython",
    "version": 3
   },
   "file_extension": ".py",
   "mimetype": "text/x-python",
   "name": "python",
   "nbconvert_exporter": "python",
   "pygments_lexer": "ipython3",
   "version": "3.6.10"
  }
 },
 "nbformat": 4,
 "nbformat_minor": 4
}
